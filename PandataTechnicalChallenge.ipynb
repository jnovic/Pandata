{
 "cells": [
  {
   "cell_type": "code",
   "execution_count": 1,
   "metadata": {},
   "outputs": [],
   "source": [
    "%matplotlib inline\n",
    "import matplotlib.pyplot as plt\n",
    "import pandas as pd\n",
    "import numpy as np\n",
    "import scipy.stats as stats\n",
    "\n",
    "\n",
    "\n"
   ]
  },
  {
   "cell_type": "code",
   "execution_count": 2,
   "metadata": {},
   "outputs": [],
   "source": [
    "csv_path =\"Resources/winemag_data_pandata.csv\"\n",
    "df = pd.read_csv(csv_path)"
   ]
  },
  {
   "cell_type": "markdown",
   "metadata": {},
   "source": [
    "# Data Profile"
   ]
  },
  {
   "cell_type": "code",
   "execution_count": 3,
   "metadata": {},
   "outputs": [
    {
     "data": {
      "text/html": [
       "<div>\n",
       "<style scoped>\n",
       "    .dataframe tbody tr th:only-of-type {\n",
       "        vertical-align: middle;\n",
       "    }\n",
       "\n",
       "    .dataframe tbody tr th {\n",
       "        vertical-align: top;\n",
       "    }\n",
       "\n",
       "    .dataframe thead th {\n",
       "        text-align: right;\n",
       "    }\n",
       "</style>\n",
       "<table border=\"1\" class=\"dataframe\">\n",
       "  <thead>\n",
       "    <tr style=\"text-align: right;\">\n",
       "      <th></th>\n",
       "      <th>Unnamed: 0</th>\n",
       "      <th>country</th>\n",
       "      <th>description</th>\n",
       "      <th>designation</th>\n",
       "      <th>points</th>\n",
       "      <th>price</th>\n",
       "      <th>province</th>\n",
       "      <th>region_1</th>\n",
       "      <th>region_2</th>\n",
       "      <th>taster_name</th>\n",
       "      <th>taster_twitter_handle</th>\n",
       "      <th>title</th>\n",
       "      <th>variety</th>\n",
       "      <th>winery</th>\n",
       "    </tr>\n",
       "  </thead>\n",
       "  <tbody>\n",
       "    <tr>\n",
       "      <th>0</th>\n",
       "      <td>0</td>\n",
       "      <td>Italy</td>\n",
       "      <td>Aromas include tropical fruit, broom, brimston...</td>\n",
       "      <td>Vulkà Bianco</td>\n",
       "      <td>87</td>\n",
       "      <td>NaN</td>\n",
       "      <td>Sicily &amp; Sardinia</td>\n",
       "      <td>Etna</td>\n",
       "      <td>NaN</td>\n",
       "      <td>Kerin O’Keefe</td>\n",
       "      <td>@kerinokeefe</td>\n",
       "      <td>Nicosia 2013 Vulkà Bianco  (Etna)</td>\n",
       "      <td>White Blend</td>\n",
       "      <td>Nicosia</td>\n",
       "    </tr>\n",
       "    <tr>\n",
       "      <th>1</th>\n",
       "      <td>1</td>\n",
       "      <td>Portugal</td>\n",
       "      <td>This is ripe and fruity, a wine that is smooth...</td>\n",
       "      <td>Avidagos</td>\n",
       "      <td>87</td>\n",
       "      <td>15.0</td>\n",
       "      <td>Douro</td>\n",
       "      <td>NaN</td>\n",
       "      <td>NaN</td>\n",
       "      <td>Roger Voss</td>\n",
       "      <td>@vossroger</td>\n",
       "      <td>Quinta dos Avidagos 2011 Avidagos Red (Douro)</td>\n",
       "      <td>Portuguese Red</td>\n",
       "      <td>Quinta dos Avidagos</td>\n",
       "    </tr>\n",
       "    <tr>\n",
       "      <th>2</th>\n",
       "      <td>2</td>\n",
       "      <td>US</td>\n",
       "      <td>Tart and snappy, the flavors of lime flesh and...</td>\n",
       "      <td>NaN</td>\n",
       "      <td>87</td>\n",
       "      <td>14.0</td>\n",
       "      <td>Oregon</td>\n",
       "      <td>Willamette Valley</td>\n",
       "      <td>Willamette Valley</td>\n",
       "      <td>Paul Gregutt</td>\n",
       "      <td>@paulgwine</td>\n",
       "      <td>Rainstorm 2013 Pinot Gris (Willamette Valley)</td>\n",
       "      <td>Pinot Gris</td>\n",
       "      <td>Rainstorm</td>\n",
       "    </tr>\n",
       "    <tr>\n",
       "      <th>3</th>\n",
       "      <td>3</td>\n",
       "      <td>US</td>\n",
       "      <td>Pineapple rind, lemon pith and orange blossom ...</td>\n",
       "      <td>Reserve Late Harvest</td>\n",
       "      <td>87</td>\n",
       "      <td>13.0</td>\n",
       "      <td>Michigan</td>\n",
       "      <td>Lake Michigan Shore</td>\n",
       "      <td>NaN</td>\n",
       "      <td>Alexander Peartree</td>\n",
       "      <td>NaN</td>\n",
       "      <td>St. Julian 2013 Reserve Late Harvest Riesling ...</td>\n",
       "      <td>Riesling</td>\n",
       "      <td>St. Julian</td>\n",
       "    </tr>\n",
       "    <tr>\n",
       "      <th>4</th>\n",
       "      <td>4</td>\n",
       "      <td>US</td>\n",
       "      <td>Much like the regular bottling from 2012, this...</td>\n",
       "      <td>Vintner's Reserve Wild Child Block</td>\n",
       "      <td>87</td>\n",
       "      <td>65.0</td>\n",
       "      <td>Oregon</td>\n",
       "      <td>Willamette Valley</td>\n",
       "      <td>Willamette Valley</td>\n",
       "      <td>Paul Gregutt</td>\n",
       "      <td>@paulgwine</td>\n",
       "      <td>Sweet Cheeks 2012 Vintner's Reserve Wild Child...</td>\n",
       "      <td>Pinot Noir</td>\n",
       "      <td>Sweet Cheeks</td>\n",
       "    </tr>\n",
       "    <tr>\n",
       "      <th>5</th>\n",
       "      <td>5</td>\n",
       "      <td>Spain</td>\n",
       "      <td>Blackberry and raspberry aromas show a typical...</td>\n",
       "      <td>Ars In Vitro</td>\n",
       "      <td>87</td>\n",
       "      <td>15.0</td>\n",
       "      <td>Northern Spain</td>\n",
       "      <td>Navarra</td>\n",
       "      <td>NaN</td>\n",
       "      <td>Michael Schachner</td>\n",
       "      <td>@wineschach</td>\n",
       "      <td>Tandem 2011 Ars In Vitro Tempranillo-Merlot (N...</td>\n",
       "      <td>Tempranillo-Merlot</td>\n",
       "      <td>Tandem</td>\n",
       "    </tr>\n",
       "    <tr>\n",
       "      <th>6</th>\n",
       "      <td>6</td>\n",
       "      <td>Italy</td>\n",
       "      <td>Here's a bright, informal red that opens with ...</td>\n",
       "      <td>Belsito</td>\n",
       "      <td>87</td>\n",
       "      <td>16.0</td>\n",
       "      <td>Sicily &amp; Sardinia</td>\n",
       "      <td>Vittoria</td>\n",
       "      <td>NaN</td>\n",
       "      <td>Kerin O’Keefe</td>\n",
       "      <td>@kerinokeefe</td>\n",
       "      <td>Terre di Giurfo 2013 Belsito Frappato (Vittoria)</td>\n",
       "      <td>Frappato</td>\n",
       "      <td>Terre di Giurfo</td>\n",
       "    </tr>\n",
       "    <tr>\n",
       "      <th>7</th>\n",
       "      <td>7</td>\n",
       "      <td>France</td>\n",
       "      <td>This dry and restrained wine offers spice in p...</td>\n",
       "      <td>NaN</td>\n",
       "      <td>87</td>\n",
       "      <td>24.0</td>\n",
       "      <td>Alsace</td>\n",
       "      <td>Alsace</td>\n",
       "      <td>NaN</td>\n",
       "      <td>Roger Voss</td>\n",
       "      <td>@vossroger</td>\n",
       "      <td>Trimbach 2012 Gewurztraminer (Alsace)</td>\n",
       "      <td>Gewürztraminer</td>\n",
       "      <td>Trimbach</td>\n",
       "    </tr>\n",
       "    <tr>\n",
       "      <th>8</th>\n",
       "      <td>8</td>\n",
       "      <td>Germany</td>\n",
       "      <td>Savory dried thyme notes accent sunnier flavor...</td>\n",
       "      <td>Shine</td>\n",
       "      <td>87</td>\n",
       "      <td>12.0</td>\n",
       "      <td>Rheinhessen</td>\n",
       "      <td>NaN</td>\n",
       "      <td>NaN</td>\n",
       "      <td>Anna Lee C. Iijima</td>\n",
       "      <td>NaN</td>\n",
       "      <td>Heinz Eifel 2013 Shine Gewürztraminer (Rheinhe...</td>\n",
       "      <td>Gewürztraminer</td>\n",
       "      <td>Heinz Eifel</td>\n",
       "    </tr>\n",
       "    <tr>\n",
       "      <th>9</th>\n",
       "      <td>9</td>\n",
       "      <td>France</td>\n",
       "      <td>This has great depth of flavor with its fresh ...</td>\n",
       "      <td>Les Natures</td>\n",
       "      <td>87</td>\n",
       "      <td>27.0</td>\n",
       "      <td>Alsace</td>\n",
       "      <td>Alsace</td>\n",
       "      <td>NaN</td>\n",
       "      <td>Roger Voss</td>\n",
       "      <td>@vossroger</td>\n",
       "      <td>Jean-Baptiste Adam 2012 Les Natures Pinot Gris...</td>\n",
       "      <td>Pinot Gris</td>\n",
       "      <td>Jean-Baptiste Adam</td>\n",
       "    </tr>\n",
       "  </tbody>\n",
       "</table>\n",
       "</div>"
      ],
      "text/plain": [
       "   Unnamed: 0   country                                        description  \\\n",
       "0           0     Italy  Aromas include tropical fruit, broom, brimston...   \n",
       "1           1  Portugal  This is ripe and fruity, a wine that is smooth...   \n",
       "2           2        US  Tart and snappy, the flavors of lime flesh and...   \n",
       "3           3        US  Pineapple rind, lemon pith and orange blossom ...   \n",
       "4           4        US  Much like the regular bottling from 2012, this...   \n",
       "5           5     Spain  Blackberry and raspberry aromas show a typical...   \n",
       "6           6     Italy  Here's a bright, informal red that opens with ...   \n",
       "7           7    France  This dry and restrained wine offers spice in p...   \n",
       "8           8   Germany  Savory dried thyme notes accent sunnier flavor...   \n",
       "9           9    France  This has great depth of flavor with its fresh ...   \n",
       "\n",
       "                          designation  points  price           province  \\\n",
       "0                        Vulkà Bianco      87    NaN  Sicily & Sardinia   \n",
       "1                            Avidagos      87   15.0              Douro   \n",
       "2                                 NaN      87   14.0             Oregon   \n",
       "3                Reserve Late Harvest      87   13.0           Michigan   \n",
       "4  Vintner's Reserve Wild Child Block      87   65.0             Oregon   \n",
       "5                        Ars In Vitro      87   15.0     Northern Spain   \n",
       "6                             Belsito      87   16.0  Sicily & Sardinia   \n",
       "7                                 NaN      87   24.0             Alsace   \n",
       "8                               Shine      87   12.0        Rheinhessen   \n",
       "9                         Les Natures      87   27.0             Alsace   \n",
       "\n",
       "              region_1           region_2         taster_name  \\\n",
       "0                 Etna                NaN       Kerin O’Keefe   \n",
       "1                  NaN                NaN          Roger Voss   \n",
       "2    Willamette Valley  Willamette Valley        Paul Gregutt   \n",
       "3  Lake Michigan Shore                NaN  Alexander Peartree   \n",
       "4    Willamette Valley  Willamette Valley        Paul Gregutt   \n",
       "5              Navarra                NaN   Michael Schachner   \n",
       "6             Vittoria                NaN       Kerin O’Keefe   \n",
       "7               Alsace                NaN          Roger Voss   \n",
       "8                  NaN                NaN  Anna Lee C. Iijima   \n",
       "9               Alsace                NaN          Roger Voss   \n",
       "\n",
       "  taster_twitter_handle                                              title  \\\n",
       "0          @kerinokeefe                  Nicosia 2013 Vulkà Bianco  (Etna)   \n",
       "1            @vossroger      Quinta dos Avidagos 2011 Avidagos Red (Douro)   \n",
       "2           @paulgwine       Rainstorm 2013 Pinot Gris (Willamette Valley)   \n",
       "3                   NaN  St. Julian 2013 Reserve Late Harvest Riesling ...   \n",
       "4           @paulgwine   Sweet Cheeks 2012 Vintner's Reserve Wild Child...   \n",
       "5           @wineschach  Tandem 2011 Ars In Vitro Tempranillo-Merlot (N...   \n",
       "6          @kerinokeefe   Terre di Giurfo 2013 Belsito Frappato (Vittoria)   \n",
       "7            @vossroger              Trimbach 2012 Gewurztraminer (Alsace)   \n",
       "8                   NaN  Heinz Eifel 2013 Shine Gewürztraminer (Rheinhe...   \n",
       "9            @vossroger  Jean-Baptiste Adam 2012 Les Natures Pinot Gris...   \n",
       "\n",
       "              variety               winery  \n",
       "0         White Blend              Nicosia  \n",
       "1      Portuguese Red  Quinta dos Avidagos  \n",
       "2          Pinot Gris            Rainstorm  \n",
       "3            Riesling           St. Julian  \n",
       "4          Pinot Noir         Sweet Cheeks  \n",
       "5  Tempranillo-Merlot               Tandem  \n",
       "6            Frappato      Terre di Giurfo  \n",
       "7      Gewürztraminer             Trimbach  \n",
       "8      Gewürztraminer          Heinz Eifel  \n",
       "9          Pinot Gris   Jean-Baptiste Adam  "
      ]
     },
     "execution_count": 3,
     "metadata": {},
     "output_type": "execute_result"
    }
   ],
   "source": [
    "df.head(10)"
   ]
  },
  {
   "cell_type": "code",
   "execution_count": 4,
   "metadata": {},
   "outputs": [
    {
     "data": {
      "text/plain": [
       "Index(['Unnamed: 0', 'country', 'description', 'designation', 'points',\n",
       "       'price', 'province', 'region_1', 'region_2', 'taster_name',\n",
       "       'taster_twitter_handle', 'title', 'variety', 'winery'],\n",
       "      dtype='object')"
      ]
     },
     "execution_count": 4,
     "metadata": {},
     "output_type": "execute_result"
    }
   ],
   "source": [
    "column_name = df.columns\n",
    "column_name"
   ]
  },
  {
   "cell_type": "code",
   "execution_count": 5,
   "metadata": {},
   "outputs": [
    {
     "data": {
      "text/plain": [
       "Unnamed: 0               129971\n",
       "country                  129908\n",
       "description              129971\n",
       "designation               92506\n",
       "points                   129971\n",
       "price                    120975\n",
       "province                 129908\n",
       "region_1                 108724\n",
       "region_2                  50511\n",
       "taster_name              103727\n",
       "taster_twitter_handle     98758\n",
       "title                    129971\n",
       "variety                  129970\n",
       "winery                   129971\n",
       "dtype: int64"
      ]
     },
     "execution_count": 5,
     "metadata": {},
     "output_type": "execute_result"
    }
   ],
   "source": [
    "df.count()"
   ]
  },
  {
   "cell_type": "markdown",
   "metadata": {},
   "source": [
    "# Data Cleaning"
   ]
  },
  {
   "cell_type": "code",
   "execution_count": 6,
   "metadata": {},
   "outputs": [
    {
     "data": {
      "text/html": [
       "<div>\n",
       "<style scoped>\n",
       "    .dataframe tbody tr th:only-of-type {\n",
       "        vertical-align: middle;\n",
       "    }\n",
       "\n",
       "    .dataframe tbody tr th {\n",
       "        vertical-align: top;\n",
       "    }\n",
       "\n",
       "    .dataframe thead th {\n",
       "        text-align: right;\n",
       "    }\n",
       "</style>\n",
       "<table border=\"1\" class=\"dataframe\">\n",
       "  <thead>\n",
       "    <tr style=\"text-align: right;\">\n",
       "      <th></th>\n",
       "      <th>Unnamed: 0</th>\n",
       "      <th>country</th>\n",
       "      <th>description</th>\n",
       "      <th>designation</th>\n",
       "      <th>points</th>\n",
       "      <th>price</th>\n",
       "      <th>province</th>\n",
       "      <th>region_1</th>\n",
       "      <th>region_2</th>\n",
       "      <th>taster_name</th>\n",
       "      <th>taster_twitter_handle</th>\n",
       "      <th>title</th>\n",
       "      <th>variety</th>\n",
       "    </tr>\n",
       "    <tr>\n",
       "      <th>winery</th>\n",
       "      <th></th>\n",
       "      <th></th>\n",
       "      <th></th>\n",
       "      <th></th>\n",
       "      <th></th>\n",
       "      <th></th>\n",
       "      <th></th>\n",
       "      <th></th>\n",
       "      <th></th>\n",
       "      <th></th>\n",
       "      <th></th>\n",
       "      <th></th>\n",
       "      <th></th>\n",
       "    </tr>\n",
       "  </thead>\n",
       "  <tbody>\n",
       "    <tr>\n",
       "      <th>Wines &amp; Winemakers</th>\n",
       "      <td>222</td>\n",
       "      <td>222</td>\n",
       "      <td>222</td>\n",
       "      <td>222</td>\n",
       "      <td>222</td>\n",
       "      <td>209</td>\n",
       "      <td>222</td>\n",
       "      <td>0</td>\n",
       "      <td>0</td>\n",
       "      <td>222</td>\n",
       "      <td>222</td>\n",
       "      <td>222</td>\n",
       "      <td>222</td>\n",
       "    </tr>\n",
       "    <tr>\n",
       "      <th>Testarossa</th>\n",
       "      <td>218</td>\n",
       "      <td>218</td>\n",
       "      <td>218</td>\n",
       "      <td>204</td>\n",
       "      <td>218</td>\n",
       "      <td>217</td>\n",
       "      <td>218</td>\n",
       "      <td>218</td>\n",
       "      <td>218</td>\n",
       "      <td>112</td>\n",
       "      <td>112</td>\n",
       "      <td>218</td>\n",
       "      <td>218</td>\n",
       "    </tr>\n",
       "    <tr>\n",
       "      <th>DFJ Vinhos</th>\n",
       "      <td>215</td>\n",
       "      <td>215</td>\n",
       "      <td>215</td>\n",
       "      <td>215</td>\n",
       "      <td>215</td>\n",
       "      <td>209</td>\n",
       "      <td>215</td>\n",
       "      <td>0</td>\n",
       "      <td>0</td>\n",
       "      <td>215</td>\n",
       "      <td>215</td>\n",
       "      <td>215</td>\n",
       "      <td>215</td>\n",
       "    </tr>\n",
       "    <tr>\n",
       "      <th>Williams Selyem</th>\n",
       "      <td>211</td>\n",
       "      <td>211</td>\n",
       "      <td>211</td>\n",
       "      <td>185</td>\n",
       "      <td>211</td>\n",
       "      <td>211</td>\n",
       "      <td>211</td>\n",
       "      <td>211</td>\n",
       "      <td>198</td>\n",
       "      <td>91</td>\n",
       "      <td>91</td>\n",
       "      <td>211</td>\n",
       "      <td>211</td>\n",
       "    </tr>\n",
       "    <tr>\n",
       "      <th>Louis Latour</th>\n",
       "      <td>199</td>\n",
       "      <td>199</td>\n",
       "      <td>199</td>\n",
       "      <td>111</td>\n",
       "      <td>199</td>\n",
       "      <td>173</td>\n",
       "      <td>199</td>\n",
       "      <td>199</td>\n",
       "      <td>0</td>\n",
       "      <td>185</td>\n",
       "      <td>185</td>\n",
       "      <td>199</td>\n",
       "      <td>199</td>\n",
       "    </tr>\n",
       "  </tbody>\n",
       "</table>\n",
       "</div>"
      ],
      "text/plain": [
       "                    Unnamed: 0  country  description  designation  points  \\\n",
       "winery                                                                      \n",
       "Wines & Winemakers         222      222          222          222     222   \n",
       "Testarossa                 218      218          218          204     218   \n",
       "DFJ Vinhos                 215      215          215          215     215   \n",
       "Williams Selyem            211      211          211          185     211   \n",
       "Louis Latour               199      199          199          111     199   \n",
       "\n",
       "                    price  province  region_1  region_2  taster_name  \\\n",
       "winery                                                                 \n",
       "Wines & Winemakers    209       222         0         0          222   \n",
       "Testarossa            217       218       218       218          112   \n",
       "DFJ Vinhos            209       215         0         0          215   \n",
       "Williams Selyem       211       211       211       198           91   \n",
       "Louis Latour          173       199       199         0          185   \n",
       "\n",
       "                    taster_twitter_handle  title  variety  \n",
       "winery                                                     \n",
       "Wines & Winemakers                    222    222      222  \n",
       "Testarossa                            112    218      218  \n",
       "DFJ Vinhos                            215    215      215  \n",
       "Williams Selyem                        91    211      211  \n",
       "Louis Latour                          185    199      199  "
      ]
     },
     "execution_count": 6,
     "metadata": {},
     "output_type": "execute_result"
    }
   ],
   "source": [
    "#data on wineries\n",
    "wineries = df.groupby(\"winery\")\n",
    "count_wine = wineries.count()\n",
    "sort_wine = count_wine.sort_values(\"description\", ascending=False)\n",
    "sort_wine.head()\n",
    "\n"
   ]
  },
  {
   "cell_type": "code",
   "execution_count": 7,
   "metadata": {},
   "outputs": [],
   "source": [
    "df_wine = df[[\"winery\", \"price\"]]\n",
    "df_wine = df_wine.dropna()\n",
    "df_wine = df_wine.loc[df_wine[\"price\"] >= 0]\n",
    "df_WW =df_wine.loc[df_wine[\"winery\"] == \"Wines & Winemakers\", :]\n",
    "df_Testa = df_wine.loc[df_wine[\"winery\"] == \"Testarossa\", :]\n",
    "df_DFJ = df_wine.loc[df_wine[\"winery\"] == \"DFJ Vinhos\", :]"
   ]
  },
  {
   "cell_type": "code",
   "execution_count": 8,
   "metadata": {},
   "outputs": [
    {
     "data": {
      "text/html": [
       "<div>\n",
       "<style scoped>\n",
       "    .dataframe tbody tr th:only-of-type {\n",
       "        vertical-align: middle;\n",
       "    }\n",
       "\n",
       "    .dataframe tbody tr th {\n",
       "        vertical-align: top;\n",
       "    }\n",
       "\n",
       "    .dataframe thead th {\n",
       "        text-align: right;\n",
       "    }\n",
       "</style>\n",
       "<table border=\"1\" class=\"dataframe\">\n",
       "  <thead>\n",
       "    <tr style=\"text-align: right;\">\n",
       "      <th></th>\n",
       "      <th>Unnamed: 0</th>\n",
       "      <th>description</th>\n",
       "      <th>designation</th>\n",
       "      <th>points</th>\n",
       "      <th>price</th>\n",
       "      <th>province</th>\n",
       "      <th>region_1</th>\n",
       "      <th>region_2</th>\n",
       "      <th>taster_name</th>\n",
       "      <th>taster_twitter_handle</th>\n",
       "      <th>title</th>\n",
       "      <th>variety</th>\n",
       "      <th>winery</th>\n",
       "    </tr>\n",
       "    <tr>\n",
       "      <th>country</th>\n",
       "      <th></th>\n",
       "      <th></th>\n",
       "      <th></th>\n",
       "      <th></th>\n",
       "      <th></th>\n",
       "      <th></th>\n",
       "      <th></th>\n",
       "      <th></th>\n",
       "      <th></th>\n",
       "      <th></th>\n",
       "      <th></th>\n",
       "      <th></th>\n",
       "      <th></th>\n",
       "    </tr>\n",
       "  </thead>\n",
       "  <tbody>\n",
       "    <tr>\n",
       "      <th>US</th>\n",
       "      <td>54504</td>\n",
       "      <td>54504</td>\n",
       "      <td>36908</td>\n",
       "      <td>54504</td>\n",
       "      <td>54265</td>\n",
       "      <td>54504</td>\n",
       "      <td>54226</td>\n",
       "      <td>50511</td>\n",
       "      <td>37730</td>\n",
       "      <td>34741</td>\n",
       "      <td>54504</td>\n",
       "      <td>54504</td>\n",
       "      <td>54504</td>\n",
       "    </tr>\n",
       "    <tr>\n",
       "      <th>France</th>\n",
       "      <td>22093</td>\n",
       "      <td>22093</td>\n",
       "      <td>14530</td>\n",
       "      <td>22093</td>\n",
       "      <td>17776</td>\n",
       "      <td>22093</td>\n",
       "      <td>22017</td>\n",
       "      <td>0</td>\n",
       "      <td>21828</td>\n",
       "      <td>21828</td>\n",
       "      <td>22093</td>\n",
       "      <td>22093</td>\n",
       "      <td>22093</td>\n",
       "    </tr>\n",
       "    <tr>\n",
       "      <th>Italy</th>\n",
       "      <td>19540</td>\n",
       "      <td>19540</td>\n",
       "      <td>13889</td>\n",
       "      <td>19540</td>\n",
       "      <td>16914</td>\n",
       "      <td>19540</td>\n",
       "      <td>19513</td>\n",
       "      <td>0</td>\n",
       "      <td>11042</td>\n",
       "      <td>11042</td>\n",
       "      <td>19540</td>\n",
       "      <td>19540</td>\n",
       "      <td>19540</td>\n",
       "    </tr>\n",
       "    <tr>\n",
       "      <th>Spain</th>\n",
       "      <td>6645</td>\n",
       "      <td>6645</td>\n",
       "      <td>5320</td>\n",
       "      <td>6645</td>\n",
       "      <td>6573</td>\n",
       "      <td>6645</td>\n",
       "      <td>6637</td>\n",
       "      <td>0</td>\n",
       "      <td>6581</td>\n",
       "      <td>6581</td>\n",
       "      <td>6645</td>\n",
       "      <td>6645</td>\n",
       "      <td>6645</td>\n",
       "    </tr>\n",
       "    <tr>\n",
       "      <th>Portugal</th>\n",
       "      <td>5691</td>\n",
       "      <td>5691</td>\n",
       "      <td>5105</td>\n",
       "      <td>5691</td>\n",
       "      <td>4875</td>\n",
       "      <td>5691</td>\n",
       "      <td>0</td>\n",
       "      <td>0</td>\n",
       "      <td>5686</td>\n",
       "      <td>5686</td>\n",
       "      <td>5691</td>\n",
       "      <td>5691</td>\n",
       "      <td>5691</td>\n",
       "    </tr>\n",
       "    <tr>\n",
       "      <th>Chile</th>\n",
       "      <td>4472</td>\n",
       "      <td>4472</td>\n",
       "      <td>3879</td>\n",
       "      <td>4472</td>\n",
       "      <td>4416</td>\n",
       "      <td>4472</td>\n",
       "      <td>0</td>\n",
       "      <td>0</td>\n",
       "      <td>4361</td>\n",
       "      <td>4361</td>\n",
       "      <td>4472</td>\n",
       "      <td>4471</td>\n",
       "      <td>4472</td>\n",
       "    </tr>\n",
       "    <tr>\n",
       "      <th>Argentina</th>\n",
       "      <td>3800</td>\n",
       "      <td>3800</td>\n",
       "      <td>2902</td>\n",
       "      <td>3800</td>\n",
       "      <td>3756</td>\n",
       "      <td>3800</td>\n",
       "      <td>3747</td>\n",
       "      <td>0</td>\n",
       "      <td>3797</td>\n",
       "      <td>3797</td>\n",
       "      <td>3800</td>\n",
       "      <td>3800</td>\n",
       "      <td>3800</td>\n",
       "    </tr>\n",
       "    <tr>\n",
       "      <th>Austria</th>\n",
       "      <td>3345</td>\n",
       "      <td>3345</td>\n",
       "      <td>2825</td>\n",
       "      <td>3345</td>\n",
       "      <td>2799</td>\n",
       "      <td>3345</td>\n",
       "      <td>0</td>\n",
       "      <td>0</td>\n",
       "      <td>3337</td>\n",
       "      <td>3337</td>\n",
       "      <td>3345</td>\n",
       "      <td>3345</td>\n",
       "      <td>3345</td>\n",
       "    </tr>\n",
       "    <tr>\n",
       "      <th>Australia</th>\n",
       "      <td>2329</td>\n",
       "      <td>2329</td>\n",
       "      <td>1640</td>\n",
       "      <td>2329</td>\n",
       "      <td>2294</td>\n",
       "      <td>2329</td>\n",
       "      <td>2327</td>\n",
       "      <td>0</td>\n",
       "      <td>2037</td>\n",
       "      <td>2037</td>\n",
       "      <td>2329</td>\n",
       "      <td>2329</td>\n",
       "      <td>2329</td>\n",
       "    </tr>\n",
       "    <tr>\n",
       "      <th>Germany</th>\n",
       "      <td>2165</td>\n",
       "      <td>2165</td>\n",
       "      <td>2006</td>\n",
       "      <td>2165</td>\n",
       "      <td>2120</td>\n",
       "      <td>2165</td>\n",
       "      <td>0</td>\n",
       "      <td>0</td>\n",
       "      <td>2134</td>\n",
       "      <td>375</td>\n",
       "      <td>2165</td>\n",
       "      <td>2165</td>\n",
       "      <td>2165</td>\n",
       "    </tr>\n",
       "    <tr>\n",
       "      <th>New Zealand</th>\n",
       "      <td>1419</td>\n",
       "      <td>1419</td>\n",
       "      <td>684</td>\n",
       "      <td>1419</td>\n",
       "      <td>1378</td>\n",
       "      <td>1419</td>\n",
       "      <td>0</td>\n",
       "      <td>0</td>\n",
       "      <td>1311</td>\n",
       "      <td>1311</td>\n",
       "      <td>1419</td>\n",
       "      <td>1419</td>\n",
       "      <td>1419</td>\n",
       "    </tr>\n",
       "    <tr>\n",
       "      <th>South Africa</th>\n",
       "      <td>1401</td>\n",
       "      <td>1401</td>\n",
       "      <td>822</td>\n",
       "      <td>1401</td>\n",
       "      <td>1293</td>\n",
       "      <td>1401</td>\n",
       "      <td>0</td>\n",
       "      <td>0</td>\n",
       "      <td>1328</td>\n",
       "      <td>1328</td>\n",
       "      <td>1401</td>\n",
       "      <td>1401</td>\n",
       "      <td>1401</td>\n",
       "    </tr>\n",
       "  </tbody>\n",
       "</table>\n",
       "</div>"
      ],
      "text/plain": [
       "              Unnamed: 0  description  designation  points  price  province  \\\n",
       "country                                                                       \n",
       "US                 54504        54504        36908   54504  54265     54504   \n",
       "France             22093        22093        14530   22093  17776     22093   \n",
       "Italy              19540        19540        13889   19540  16914     19540   \n",
       "Spain               6645         6645         5320    6645   6573      6645   \n",
       "Portugal            5691         5691         5105    5691   4875      5691   \n",
       "Chile               4472         4472         3879    4472   4416      4472   \n",
       "Argentina           3800         3800         2902    3800   3756      3800   \n",
       "Austria             3345         3345         2825    3345   2799      3345   \n",
       "Australia           2329         2329         1640    2329   2294      2329   \n",
       "Germany             2165         2165         2006    2165   2120      2165   \n",
       "New Zealand         1419         1419          684    1419   1378      1419   \n",
       "South Africa        1401         1401          822    1401   1293      1401   \n",
       "\n",
       "              region_1  region_2  taster_name  taster_twitter_handle  title  \\\n",
       "country                                                                       \n",
       "US               54226     50511        37730                  34741  54504   \n",
       "France           22017         0        21828                  21828  22093   \n",
       "Italy            19513         0        11042                  11042  19540   \n",
       "Spain             6637         0         6581                   6581   6645   \n",
       "Portugal             0         0         5686                   5686   5691   \n",
       "Chile                0         0         4361                   4361   4472   \n",
       "Argentina         3747         0         3797                   3797   3800   \n",
       "Austria              0         0         3337                   3337   3345   \n",
       "Australia         2327         0         2037                   2037   2329   \n",
       "Germany              0         0         2134                    375   2165   \n",
       "New Zealand          0         0         1311                   1311   1419   \n",
       "South Africa         0         0         1328                   1328   1401   \n",
       "\n",
       "              variety  winery  \n",
       "country                        \n",
       "US              54504   54504  \n",
       "France          22093   22093  \n",
       "Italy           19540   19540  \n",
       "Spain            6645    6645  \n",
       "Portugal         5691    5691  \n",
       "Chile            4471    4472  \n",
       "Argentina        3800    3800  \n",
       "Austria          3345    3345  \n",
       "Australia        2329    2329  \n",
       "Germany          2165    2165  \n",
       "New Zealand      1419    1419  \n",
       "South Africa     1401    1401  "
      ]
     },
     "execution_count": 8,
     "metadata": {},
     "output_type": "execute_result"
    }
   ],
   "source": [
    "#data for countries  \n",
    "#identified over 1000 entries instead of 10,000\n",
    "country = df.groupby(\"country\")\n",
    "count_country = country.count()\n",
    "sort_country = count_country.sort_values(\"description\", ascending=False)\n",
    "df1000 = sort_country.loc[sort_country[\"description\"] >= 1000]\n",
    "df1000"
   ]
  },
  {
   "cell_type": "code",
   "execution_count": 9,
   "metadata": {},
   "outputs": [],
   "source": [
    "df_country = df[[\"country\", \"price\", \"points\"]]\n",
    "df_country = df_country.dropna()\n",
    "df_country = df_country.loc[df_country[\"price\"] >= 0]\n",
    "df_US =df_country.loc[df_country[\"country\"] == \"US\", :]\n",
    "df_Fr =df_country.loc[df_country[\"country\"] == \"France\", :]\n",
    "df_It =df_country.loc[df_country[\"country\"] == \"Italy\", :]\n",
    "df_Sp =df_country.loc[df_country[\"country\"] == \"Spain\", :]\n",
    "df_P =df_country.loc[df_country[\"country\"] == \"Portugal\", :]\n",
    "df_Ch =df_country.loc[df_country[\"country\"] == \"Chile\", :]\n",
    "df_Argent =df_country.loc[df_country[\"country\"] == \"Argentina\", :]\n",
    "df_Austria =df_country.loc[df_country[\"country\"] == \"Austria\", :]\n",
    "df_Au =df_country.loc[df_country[\"country\"] == \"Australia\", :]\n",
    "df_Ge =df_country.loc[df_country[\"country\"] == \"Germany\", :]\n",
    "df_NZ =df_country.loc[df_country[\"country\"] == \"New Zealand\", :]\n",
    "df_SA =df_country.loc[df_country[\"country\"] == \"South Africa\", :]"
   ]
  },
  {
   "cell_type": "code",
   "execution_count": 10,
   "metadata": {},
   "outputs": [
    {
     "data": {
      "text/html": [
       "<div>\n",
       "<style scoped>\n",
       "    .dataframe tbody tr th:only-of-type {\n",
       "        vertical-align: middle;\n",
       "    }\n",
       "\n",
       "    .dataframe tbody tr th {\n",
       "        vertical-align: top;\n",
       "    }\n",
       "\n",
       "    .dataframe thead th {\n",
       "        text-align: right;\n",
       "    }\n",
       "</style>\n",
       "<table border=\"1\" class=\"dataframe\">\n",
       "  <thead>\n",
       "    <tr style=\"text-align: right;\">\n",
       "      <th></th>\n",
       "      <th>price</th>\n",
       "      <th>points</th>\n",
       "    </tr>\n",
       "  </thead>\n",
       "  <tbody>\n",
       "    <tr>\n",
       "      <th>1</th>\n",
       "      <td>15.0</td>\n",
       "      <td>87</td>\n",
       "    </tr>\n",
       "    <tr>\n",
       "      <th>2</th>\n",
       "      <td>14.0</td>\n",
       "      <td>87</td>\n",
       "    </tr>\n",
       "    <tr>\n",
       "      <th>3</th>\n",
       "      <td>13.0</td>\n",
       "      <td>87</td>\n",
       "    </tr>\n",
       "    <tr>\n",
       "      <th>4</th>\n",
       "      <td>65.0</td>\n",
       "      <td>87</td>\n",
       "    </tr>\n",
       "    <tr>\n",
       "      <th>5</th>\n",
       "      <td>15.0</td>\n",
       "      <td>87</td>\n",
       "    </tr>\n",
       "  </tbody>\n",
       "</table>\n",
       "</div>"
      ],
      "text/plain": [
       "   price  points\n",
       "1   15.0      87\n",
       "2   14.0      87\n",
       "3   13.0      87\n",
       "4   65.0      87\n",
       "5   15.0      87"
      ]
     },
     "execution_count": 10,
     "metadata": {},
     "output_type": "execute_result"
    }
   ],
   "source": [
    "#data for linear regression\n",
    "df_model = df[[\"price\", \"points\"]]\n",
    "df_model = df_model.loc[df_model[\"price\"] >= 0]\n",
    "df_model = df_model.dropna()\n",
    "df_model.head()"
   ]
  },
  {
   "cell_type": "markdown",
   "metadata": {},
   "source": [
    "# EDA"
   ]
  },
  {
   "cell_type": "code",
   "execution_count": 11,
   "metadata": {},
   "outputs": [
    {
     "name": "stdout",
     "output_type": "stream",
     "text": [
      "winery    Wines & Winemakers\n",
      "price                     77\n",
      "dtype: object winery    Testarossa\n",
      "price             87\n",
      "dtype: object winery    DFJ Vinhos\n",
      "price             50\n",
      "dtype: object\n",
      "winery    Wines & Winemakers\n",
      "price                      9\n",
      "dtype: object winery    Testarossa\n",
      "price             18\n",
      "dtype: object winery    DFJ Vinhos\n",
      "price              6\n",
      "dtype: object\n"
     ]
    }
   ],
   "source": [
    "#3 Top Vineyards\n",
    "#changed bin size\n",
    "print(df_WW.max(),df_Testa.max(),df_DFJ.max())\n",
    "print(df_WW.min(),df_Testa.min(),df_DFJ.min())"
   ]
  },
  {
   "cell_type": "code",
   "execution_count": 12,
   "metadata": {},
   "outputs": [
    {
     "data": {
      "image/png": "[encoded data removed]",
      "text/plain": [
       "<Figure size 432x288 with 1 Axes>"
      ]
     },
     "metadata": {},
     "output_type": "display_data"
    }
   ],
   "source": [
    "n_bins1 = int((77-9)/5)\n",
    "\n",
    "fig, axs = plt.subplots()\n",
    "\n",
    "axs.hist(df_WW[\"price\"], bins=n_bins1)\n",
    "fig.suptitle(\"Wines & Winemakers\", fontsize=14, fontweight=\"bold\")\n",
    "axs.set_xlabel(\"Wine Price\")\n",
    "axs.set_ylabel(\"Number of Wines\")\n",
    "\n",
    "plt.show()"
   ]
  },
  {
   "cell_type": "code",
   "execution_count": 13,
   "metadata": {},
   "outputs": [
    {
     "data": {
      "image/png": "[encoded data removed]",
      "text/plain": [
       "<Figure size 432x288 with 1 Axes>"
      ]
     },
     "metadata": {},
     "output_type": "display_data"
    }
   ],
   "source": [
    "n_bins2 = int((87-18)/5)\n",
    "fig, axs = plt.subplots()\n",
    "axs.hist(df_Testa[\"price\"], bins=n_bins2)\n",
    "fig.suptitle(\"Testarossa\", fontsize=14, fontweight=\"bold\")\n",
    "axs.set_xlabel(\"Wine Price\")\n",
    "axs.set_ylabel(\"Number of Wines\")\n",
    "\n",
    "plt.show()"
   ]
  },
  {
   "cell_type": "code",
   "execution_count": 14,
   "metadata": {},
   "outputs": [
    {
     "data": {
      "image/png": "[encoded data removed]",
      "text/plain": [
       "<Figure size 432x288 with 1 Axes>"
      ]
     },
     "metadata": {},
     "output_type": "display_data"
    }
   ],
   "source": [
    "n_bins3 = int((50-6)/5)\n",
    "\n",
    "fig, axs = plt.subplots()\n",
    "axs.hist(df_DFJ[\"price\"], bins=n_bins3)\n",
    "fig.suptitle(\"DFJ Vinhos\", fontsize=14, fontweight=\"bold\")\n",
    "axs.set_xlabel(\"Wine Price\")\n",
    "axs.set_ylabel(\"Number of Wines\")\n",
    "\n",
    "plt.show()\n"
   ]
  },
  {
   "cell_type": "code",
   "execution_count": 15,
   "metadata": {},
   "outputs": [
    {
     "data": {
      "image/png": "[encoded data removed]",
      "text/plain": [
       "<Figure size 432x288 with 1 Axes>"
      ]
     },
     "metadata": {},
     "output_type": "display_data"
    }
   ],
   "source": [
    "# Countries with more than 1000 reviews\n",
    "plt.scatter(df_US[\"price\"], df_US[\"points\"])\n",
    "\n",
    "plt.title(\"US Price vs Points\")\n",
    "plt.xlabel(\"Price\")\n",
    "plt.ylabel(\"Points\")\n",
    "\n",
    "plt.show()"
   ]
  },
  {
   "cell_type": "code",
   "execution_count": 16,
   "metadata": {},
   "outputs": [
    {
     "data": {
      "image/png": "[encoded data removed]",
      "text/plain": [
       "<Figure size 432x288 with 1 Axes>"
      ]
     },
     "metadata": {},
     "output_type": "display_data"
    }
   ],
   "source": [
    "plt.scatter(df_Fr[\"price\"], df_Fr[\"points\"])\n",
    "plt.title(\"France Price vs Points\")\n",
    "plt.xlabel(\"Price\")\n",
    "plt.ylabel(\"Points\")\n",
    "\n",
    "plt.show()"
   ]
  },
  {
   "cell_type": "code",
   "execution_count": 17,
   "metadata": {},
   "outputs": [
    {
     "data": {
      "image/png": "[encoded data removed]",
      "text/plain": [
       "<Figure size 432x288 with 1 Axes>"
      ]
     },
     "metadata": {},
     "output_type": "display_data"
    }
   ],
   "source": [
    "plt.scatter(df_It[\"price\"], df_It[\"points\"])\n",
    "\n",
    "plt.title(\"Italy Price vs Points\")\n",
    "plt.xlabel(\"Price\")\n",
    "plt.ylabel(\"Points\")\n",
    "\n",
    "plt.show()"
   ]
  },
  {
   "cell_type": "code",
   "execution_count": 19,
   "metadata": {},
   "outputs": [
    {
     "data": {
      "image/png": "[encoded data removed]",
      "text/plain": [
       "<Figure size 432x288 with 1 Axes>"
      ]
     },
     "metadata": {},
     "output_type": "display_data"
    }
   ],
   "source": [
    "plt.scatter(df_Sp[\"price\"], df_Sp[\"points\"])\n",
    "\n",
    "plt.title(\"Spain Price vs Points\")\n",
    "plt.xlabel(\"Price\")\n",
    "plt.ylabel(\"Points\")\n",
    "\n",
    "plt.show()"
   ]
  },
  {
   "cell_type": "code",
   "execution_count": 20,
   "metadata": {},
   "outputs": [
    {
     "data": {
      "image/png": "[encoded data removed]",
      "text/plain": [
       "<Figure size 432x288 with 1 Axes>"
      ]
     },
     "metadata": {},
     "output_type": "display_data"
    }
   ],
   "source": [
    "plt.scatter(df_P[\"price\"], df_P[\"points\"])\n",
    "\n",
    "plt.title(\"Portugal Price vs Points\")\n",
    "plt.xlabel(\"Price\")\n",
    "plt.ylabel(\"Points\")\n",
    "\n",
    "plt.show()"
   ]
  },
  {
   "cell_type": "code",
   "execution_count": 21,
   "metadata": {},
   "outputs": [
    {
     "data": {
      "image/png": "[encoded data removed]",
      "text/plain": [
       "<Figure size 432x288 with 1 Axes>"
      ]
     },
     "metadata": {},
     "output_type": "display_data"
    }
   ],
   "source": [
    "plt.scatter(df_Ch[\"price\"], df_Ch[\"points\"])\n",
    "\n",
    "plt.title(\"Chile Price vs Points\")\n",
    "plt.xlabel(\"Price\")\n",
    "plt.ylabel(\"Points\")\n",
    "\n",
    "plt.show()"
   ]
  },
  {
   "cell_type": "code",
   "execution_count": 22,
   "metadata": {},
   "outputs": [
    {
     "data": {
      "image/png": "[encoded data removed]",
      "text/plain": [
       "<Figure size 432x288 with 1 Axes>"
      ]
     },
     "metadata": {},
     "output_type": "display_data"
    }
   ],
   "source": [
    "plt.scatter(df_Argent[\"price\"], df_Argent[\"points\"])\n",
    "\n",
    "plt.title(\"Argentina Price vs Points\")\n",
    "plt.xlabel(\"Price\")\n",
    "plt.ylabel(\"Points\")\n",
    "\n",
    "plt.show()"
   ]
  },
  {
   "cell_type": "code",
   "execution_count": 23,
   "metadata": {},
   "outputs": [
    {
     "data": {
      "image/png": "[encoded data removed]",
      "text/plain": [
       "<Figure size 432x288 with 1 Axes>"
      ]
     },
     "metadata": {},
     "output_type": "display_data"
    }
   ],
   "source": [
    "plt.scatter(df_Austria[\"price\"], df_Austria[\"points\"])\n",
    "\n",
    "plt.title(\"Austria Price vs Points\")\n",
    "plt.xlabel(\"Price\")\n",
    "plt.ylabel(\"Points\")\n",
    "\n",
    "plt.show()"
   ]
  },
  {
   "cell_type": "code",
   "execution_count": 24,
   "metadata": {},
   "outputs": [
    {
     "data": {
      "image/png": "[encoded data removed]",
      "text/plain": [
       "<Figure size 432x288 with 1 Axes>"
      ]
     },
     "metadata": {},
     "output_type": "display_data"
    }
   ],
   "source": [
    "plt.scatter(df_Au[\"price\"], df_Au[\"points\"])\n",
    "\n",
    "plt.title(\"Australia Price vs Points\")\n",
    "plt.xlabel(\"Price\")\n",
    "plt.ylabel(\"Points\")\n",
    "\n",
    "plt.show()"
   ]
  },
  {
   "cell_type": "code",
   "execution_count": 25,
   "metadata": {},
   "outputs": [
    {
     "data": {
      "image/png": "[encoded data removed]",
      "text/plain": [
       "<Figure size 432x288 with 1 Axes>"
      ]
     },
     "metadata": {},
     "output_type": "display_data"
    }
   ],
   "source": [
    "plt.scatter(df_Ge[\"price\"], df_Ge[\"points\"])\n",
    "\n",
    "plt.title(\"Germany Price vs Points\")\n",
    "plt.xlabel(\"Price\")\n",
    "plt.ylabel(\"Points\")\n",
    "\n",
    "plt.show()"
   ]
  },
  {
   "cell_type": "code",
   "execution_count": 26,
   "metadata": {},
   "outputs": [
    {
     "data": {
      "image/png": "[encoded data removed]",
      "text/plain": [
       "<Figure size 432x288 with 1 Axes>"
      ]
     },
     "metadata": {},
     "output_type": "display_data"
    }
   ],
   "source": [
    "plt.scatter(df_NZ[\"price\"], df_NZ[\"points\"])\n",
    "\n",
    "plt.title(\"New Zealand Price vs Points\")\n",
    "plt.xlabel(\"Price\")\n",
    "plt.ylabel(\"Points\")\n",
    "\n",
    "plt.show()"
   ]
  },
  {
   "cell_type": "code",
   "execution_count": 27,
   "metadata": {},
   "outputs": [
    {
     "data": {
      "image/png": "[encoded data removed]",
      "text/plain": [
       "<Figure size 432x288 with 1 Axes>"
      ]
     },
     "metadata": {},
     "output_type": "display_data"
    }
   ],
   "source": [
    "plt.scatter(df_SA[\"price\"], df_SA[\"points\"])\n",
    "\n",
    "plt.title(\"South America Price vs Points\")\n",
    "plt.xlabel(\"Price\")\n",
    "plt.ylabel(\"Points\")\n",
    "\n",
    "plt.show()"
   ]
  },
  {
   "cell_type": "markdown",
   "metadata": {},
   "source": [
    "# Models"
   ]
  },
  {
   "cell_type": "code",
   "execution_count": 28,
   "metadata": {},
   "outputs": [
    {
     "name": "stdout",
     "output_type": "stream",
     "text": [
      "0.41401894793844984 0.0 0.0001956510418700142\n"
     ]
    }
   ],
   "source": [
    "# Linear Regression Model\n",
    "xaxis = df_model[\"price\"]\n",
    "yaxis = df_model[\"points\"]\n",
    "\n",
    "(slope, intercept, Rvalue, Pvalue, std_err) = stats.linregress(xaxis, yaxis)\n",
    "fit = slope * xaxis + intercept\n",
    "\n",
    "print(Rvalue, Pvalue, std_err)"
   ]
  },
  {
   "cell_type": "code",
   "execution_count": 29,
   "metadata": {},
   "outputs": [
    {
     "data": {
      "image/png": "[encoded data removed]",
      "text/plain": [
       "<Figure size 432x288 with 1 Axes>"
      ]
     },
     "metadata": {},
     "output_type": "display_data"
    }
   ],
   "source": [
    "fig, ax = plt.subplots()\n",
    "\n",
    "fig.suptitle(\"Relationship between Wine Price and WineEnthusiast Rating\", fontsize=14, fontweight=\"bold\")\n",
    "\n",
    "ax.set_xlim(min(xaxis), max(xaxis)+5)\n",
    "ax.set_ylim(min(yaxis), max(yaxis)+5)\n",
    "\n",
    "ax.set_xlabel(\"Price\")\n",
    "ax.set_ylabel(\"WineEnthusiast Rating\")\n",
    "\n",
    "ax.plot(xaxis,yaxis, linewidth=0, marker='o')\n",
    "ax.plot(xaxis, fit, 'b--')\n",
    "\n",
    "plt.show()"
   ]
  },
  {
   "cell_type": "code",
   "execution_count": 30,
   "metadata": {},
   "outputs": [],
   "source": [
    "log_price = np.log(df_model)\n",
    "log_price = log_price.dropna()\n",
    "\n",
    "\n",
    "lm_log = np.polyfit(log_price.price, log_price.points, 1)\n",
    "\n",
    "# calculate the y values based on the co-efficients from the model\n",
    "r_x, r_y = zip(*((i, i*lm_log[0] + lm_log[1]) for i in log_price.price))\n",
    "\n",
    "lm_log_plot = pd.DataFrame({\n",
    "'price' : r_x,\n",
    "'points' : r_y\n",
    "})\n",
    "\n"
   ]
  },
  {
   "cell_type": "code",
   "execution_count": 31,
   "metadata": {},
   "outputs": [
    {
     "data": {
      "image/png": "[encoded data removed]",
      "text/plain": [
       "<Figure size 432x288 with 2 Axes>"
      ]
     },
     "metadata": {},
     "output_type": "display_data"
    },
    {
     "data": {
      "image/png": "[encoded data removed]",
      "text/plain": [
       "<Figure size 432x288 with 1 Axes>"
      ]
     },
     "metadata": {},
     "output_type": "display_data"
    },
    {
     "data": {
      "image/png": "[encoded data removed]",
      "text/plain": [
       "<Figure size 432x288 with 1 Axes>"
      ]
     },
     "metadata": {},
     "output_type": "display_data"
    }
   ],
   "source": [
    "fig, axes = plt.subplots(nrows=1, ncols=2)\n",
    "axes= log_price.plot(kind='scatter', color='Blue', x='price', y='points', title='Log Values of Price')\n",
    "axes= lm_log_plot.plot(kind='line', color='Red', x='price', y='points')\n",
    " \n",
    "plt.show()\n"
   ]
  },
  {
   "cell_type": "markdown",
   "metadata": {},
   "source": [
    "The linear regression model suggests that while a statistically significant relationship exists, that is these data are not the result of random processes, the relationship is a weak one. The data appear to curve.  Transforming the data into a logrithm does seem to fit the data better.  This suggests that the relationship between price and WineEnthusiast score is a non-linear one.  "
   ]
  },
  {
   "cell_type": "code",
   "execution_count": null,
   "metadata": {},
   "outputs": [],
   "source": []
  }
 ],
 "metadata": {
  "kernelspec": {
   "display_name": "Python 3",
   "language": "python",
   "name": "python3"
  },
  "language_info": {
   "codemirror_mode": {
    "name": "ipython",
    "version": 3
   },
   "file_extension": ".py",
   "mimetype": "text/x-python",
   "name": "python",
   "nbconvert_exporter": "python",
   "pygments_lexer": "ipython3",
   "version": "3.6.5"
  }
 },
 "nbformat": 4,
 "nbformat_minor": 2
}
