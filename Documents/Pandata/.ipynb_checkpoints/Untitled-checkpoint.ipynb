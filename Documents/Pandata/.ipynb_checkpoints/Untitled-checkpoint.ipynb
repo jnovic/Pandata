{
 "cells": [
  {
   "cell_type": "code",
   "execution_count": null,
   "metadata": {},
   "outputs": [],
   "source": [
    "%matplotlib inline\n",
    "\n",
    "import matplotlib.pyplot as plt\n",
    "import pandas as pd\n",
    "import numpy as np\n",
    "import scipy.stats as stats\n",
    "\n"
   ]
  },
  {
   "cell_type": "code",
   "execution_count": null,
   "metadata": {},
   "outputs": [],
   "source": [
    "#regression formula\n",
    "#(slope, intercept, Rvalue, Pvalue, std_err) = stats.linregress(xaxis, yaxis)\n",
    "#fit = slope * xaxis + intercept\n",
    "\n",
    "#figure info\n",
    "#fig, ax = plt.subplots()\n",
    "\n",
    "#fig.suptitle(\"Relationship Between Poverty and Charter Schools' Performance Score\", fontsize=16, fontweight=\"bold\")\n",
    "\n",
    "#ax.set_xlim(min(x_charter_ham_poor), max(x_charter_ham_poor))\n",
    "#ax.set_ylim(min(y_charter_ham_poor), max(y_charter_ham_poor))\n",
    "\n",
    "#ax.set_xlabel(\"Percent Total Enrollment\")\n",
    "#ax.set_ylabel(\"Performance Index Score\")\n",
    "\n",
    "#ax.plot(x_charter_ham_poor,y_charter_ham_poor, linewidth=0, marker='o')\n",
    "#ax.plot(x_charter_ham_poor, fit, 'b--')\n",
    "\n",
    "#fig_charpoor_ham = plt.gcf()\n",
    "\n",
    "#plt.show()\n"
   ]
  },
  {
   "cell_type": "code",
   "execution_count": null,
   "metadata": {},
   "outputs": [],
   "source": [
    "csv_path =\"Resources/\"\n",
    "df = pd.csv_read(csv_path)"
   ]
  },
  {
   "cell_type": "markdown",
   "metadata": {},
   "source": [
    "# Data Profile"
   ]
  },
  {
   "cell_type": "code",
   "execution_count": null,
   "metadata": {},
   "outputs": [],
   "source": [
    "df.head(10)"
   ]
  },
  {
   "cell_type": "code",
   "execution_count": null,
   "metadata": {},
   "outputs": [],
   "source": [
    "column_name = df.columns\n",
    "column_name"
   ]
  },
  {
   "cell_type": "code",
   "execution_count": null,
   "metadata": {},
   "outputs": [],
   "source": [
    "df.count()"
   ]
  },
  {
   "cell_type": "code",
   "execution_count": null,
   "metadata": {},
   "outputs": [],
   "source": [
    "df.dtypes()"
   ]
  },
  {
   "cell_type": "markdown",
   "metadata": {},
   "source": [
    "# Data Cleaning"
   ]
  },
  {
   "cell_type": "code",
   "execution_count": null,
   "metadata": {},
   "outputs": [],
   "source": [
    "#df = df.dropna()\n",
    "#df.count()"
   ]
  },
  {
   "cell_type": "markdown",
   "metadata": {},
   "source": [
    "# EDA"
   ]
  },
  {
   "cell_type": "code",
   "execution_count": null,
   "metadata": {},
   "outputs": [],
   "source": [
    "df.describe()"
   ]
  }
 ],
 "metadata": {
  "kernelspec": {
   "display_name": "Python 3",
   "language": "python",
   "name": "python3"
  },
  "language_info": {
   "codemirror_mode": {
    "name": "ipython",
    "version": 3
   },
   "file_extension": ".py",
   "mimetype": "text/x-python",
   "name": "python",
   "nbconvert_exporter": "python",
   "pygments_lexer": "ipython3",
   "version": "3.6.5"
  }
 },
 "nbformat": 4,
 "nbformat_minor": 2
}
